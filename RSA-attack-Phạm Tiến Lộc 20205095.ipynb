{
 "cells": [
  {
   "cell_type": "code",
   "execution_count": 122,
   "id": "3760bfd2",
   "metadata": {},
   "outputs": [],
   "source": [
    "#by Phạm Tiến Lộc 20205095\n",
    "#email: loc.pt205095@sis.hust.edu.vn\n",
    "#2022-01-10 1:20 AM\n",
    "import gmpy2\n",
    "from gmpy2 import mpz, isqrt, invert, powmod, f_mod, mul, t_div"
   ]
  },
  {
   "cell_type": "markdown",
   "id": "7337a1c6",
   "metadata": {},
   "source": [
    "# Câu hỏi 1"
   ]
  },
  {
   "cell_type": "code",
   "execution_count": 123,
   "id": "f05fe57b",
   "metadata": {},
   "outputs": [],
   "source": [
    "N1 = mpz('179769313486231590772930519078902473361797697894230657273430081157732675805505620686985379449212982959585501387537164015710139858647833778606925583497541085196591615128057575940752635007475935288710823649949940771895617054361149474865046711015101563940680527540071584560878577663743040086340742855278549092581')"
   ]
  },
  {
   "cell_type": "code",
   "execution_count": 124,
   "id": "0172c3bb",
   "metadata": {},
   "outputs": [],
   "source": [
    "r1 = isqrt(N1)"
   ]
  },
  {
   "cell_type": "code",
   "execution_count": 140,
   "id": "2880cf10",
   "metadata": {
    "scrolled": true
   },
   "outputs": [
    {
     "name": "stdout",
     "output_type": "stream",
     "text": [
      "Challenge #1:\n",
      "P:\n",
      "13407807929942597099574024998205846127479365820592393377723561443721764030073662768891111614362326998675040546094339320838419523375986027530441562135724301\n",
      "Q:\n",
      "13407807929942597099574024998205846127479365820592393377723561443721764030073778560980348930557750569660049234002192590823085163940025485114449475265364281\n"
     ]
    }
   ],
   "source": [
    "a1 = r1 if pow(r1, 2) == N1 else r1+1\n",
    "#print(\"a:\",a)\n",
    "x1 = gmpy2.isqrt(pow(a1, 2) - N1)\n",
    "#print(x)\n",
    "p1 = a1 - x1\n",
    "q1 = a1 + x1\n",
    "print(\"Challenge #1:\")\n",
    "print(\"P:\\n{}\".format(p1))\n",
    "print(\"Q:\\n{}\".format(q1))"
   ]
  },
  {
   "cell_type": "markdown",
   "id": "6e5e8867",
   "metadata": {},
   "source": [
    "# Câu hỏi 2"
   ]
  },
  {
   "cell_type": "code",
   "execution_count": 127,
   "id": "eb3144a0",
   "metadata": {},
   "outputs": [],
   "source": [
    "N2 = mpz('648455842808071669662824265346772278726343720706976263060439070378797308618081116462714015276061417569195587321840254520655424906719892428844841839353281972988531310511738648965962582821502504990264452100885281673303711142296421027840289307657458645233683357077834689715838646088239640236866252211790085787877')"
   ]
  },
  {
   "cell_type": "code",
   "execution_count": 137,
   "id": "b1bb1c32",
   "metadata": {
    "scrolled": false
   },
   "outputs": [
    {
     "name": "stdout",
     "output_type": "stream",
     "text": [
      "Challenge #2:\n",
      "P: \n",
      "25464796146996183438008816563973942229341454268524157846328581927885777969985222835143851073249573454107384461557193173304497244814071505790566593206419759\n",
      "Q: \n",
      "25464796146996183438008816563973942229341454268524157846328581927885777970106398054491246526970814167632563509541784734741871379856682354747718346471375403\n"
     ]
    }
   ],
   "source": [
    "a2 = gmpy2.isqrt(N2) + 1\n",
    "while True:\n",
    "    x = gmpy2.isqrt(a2 * a2 - N2)\n",
    "    p, q = a2 - x, a2 + x\n",
    "    if N == p*q:\n",
    "        print(\"Challenge #2:\")\n",
    "        print(\"P: \\n{}\".format(p))\n",
    "        print(\"Q: \\n{}\".format(q))\n",
    "        break\n",
    "    a2+=1\n"
   ]
  },
  {
   "cell_type": "markdown",
   "id": "384de08f",
   "metadata": {},
   "source": [
    "# Câu hỏi 3"
   ]
  },
  {
   "cell_type": "code",
   "execution_count": 133,
   "id": "1edb524f",
   "metadata": {},
   "outputs": [],
   "source": [
    "n3 = mpz('720062263747350425279564435525583738338084451473999841826653057981916355690188337790423408664187663938485175264994017897083524079135686877441155132015188279331812309091996246361896836573643119174094961348524639707885238799396839230364676670221627018353299443241192173812729276147530748597302192751375739387929')"
   ]
  },
  {
   "cell_type": "code",
   "execution_count": 141,
   "id": "17bb800a",
   "metadata": {},
   "outputs": [
    {
     "name": "stdout",
     "output_type": "stream",
     "text": [
      "Challenge #3:\n",
      "P: \n",
      "21909849592475533092273988531583955898982176093344929030099423584127212078126150044721102570957812665127475051465088833555993294644190955293613411658629209\n",
      "Q: \n",
      "32864774388713299638410982797375933848473264140017393545149135376190818117189240035825816494954711821626076210364113848440012285863311027426121370050758081\n"
     ]
    }
   ],
   "source": [
    "r3 = isqrt(mul(n3, 24))\n",
    "b3 = r3 if pow(r3, 2) == (mul(n3, 24)) else r3 + 1\n",
    "x3  = isqrt(pow(b3, 2) - 24 * n3)\n",
    "\n",
    "p_tmp = b3 - x3\n",
    "q_tmp = b3 + x3\n",
    "\n",
    "if f_mod(p_tmp, 6) == 0 and f_mod(q_tmp, 4) == 0:\n",
    "    p3 = min(t_div(p_tmp, 6), t_div(q_tmp, 4))\n",
    "    q3 = max(t_div(p_tmp, 6), t_div(q_tmp, 4))\n",
    "elif f_mod(p_tmp, 4) == 0 and f_mod(q_tmp, 6) == 0:\n",
    "    p3 = min(t_div(p_tmp, 4), t_div(q_tmp, 6))\n",
    "    p3 = max(t_div(p_tmp, 4), t_div(q_tmp, 6))\n",
    "print(\"Challenge #3:\")\n",
    "print(\"P: \\n{}\".format(p3))\n",
    "print(\"Q: \\n{}\".format(q3))"
   ]
  },
  {
   "cell_type": "markdown",
   "id": "2f71a7d3",
   "metadata": {},
   "source": [
    "# Câu hỏi 4"
   ]
  },
  {
   "cell_type": "code",
   "execution_count": 130,
   "id": "5fafa186",
   "metadata": {},
   "outputs": [],
   "source": [
    "e = mpz('65537')\n",
    "cipher = mpz('22096451867410381776306561134883418017410069787892831071731839143676135600120538004282329650473509424343946219751512256465839967942889460764542040581564748988013734864120452325229320176487916666402997509188729971690526083222067771600019329260870009579993724077458967773697817571267229951148662959627934791540')"
   ]
  },
  {
   "cell_type": "code",
   "execution_count": 131,
   "id": "ff62521d",
   "metadata": {},
   "outputs": [
    {
     "name": "stdout",
     "output_type": "stream",
     "text": [
      "Plaintext: \n",
      "Factoring lets us break RSA.\n"
     ]
    }
   ],
   "source": [
    "phi_n = N1 - p1 - q1 + 1\n",
    "\n",
    "d = invert(e, phi_n)\n",
    "\n",
    "padded = powmod(cipher, d, N1)\n",
    "padded = str(padded)\n",
    "padded_hex = mpz(padded, base = 10).digits(16)\n",
    "if len(padded_hex) % 2 == 1:\n",
    "    padded_hex = '0' + padded_hex\n",
    "\n",
    "string_int_hex = padded_hex[padded_hex.index('00') + 2::]\n",
    "plain = bytearray.fromhex(string_int_hex).decode('ascii')\n",
    "print(\"Plaintext: \\n\" + plain)"
   ]
  }
 ],
 "metadata": {
  "kernelspec": {
   "display_name": "Python 3",
   "language": "python",
   "name": "python3"
  },
  "language_info": {
   "codemirror_mode": {
    "name": "ipython",
    "version": 3
   },
   "file_extension": ".py",
   "mimetype": "text/x-python",
   "name": "python",
   "nbconvert_exporter": "python",
   "pygments_lexer": "ipython3",
   "version": "3.6.9"
  }
 },
 "nbformat": 4,
 "nbformat_minor": 5
}
