{
 "cells": [
  {
   "cell_type": "code",
   "execution_count": 1,
   "id": "b627bd42",
   "metadata": {},
   "outputs": [],
   "source": [
    "import math"
   ]
  },
  {
   "cell_type": "code",
   "execution_count": 2,
   "id": "41c12e3a",
   "metadata": {},
   "outputs": [],
   "source": [
    "student = [\n",
    "    [3.0777, 6.3138, 12.706, 31.821, 63.657],\n",
    "    [1.8856, 2.92, 4.3027, 6.9646, 9.9248],\n",
    "    [1.6377, 2.3534, 3.1824, 4.5407, 5.8409],\n",
    "    [1.5332, 2.1318, 2.7764, 3.7469, 4.6041],\n",
    "    [1.4759, 2.015, 2.5706, 3.3649, 4.0321],\n",
    "    [1.4398, 1.9432, 2.4469, 3.1427, 3.7074],\n",
    "    [1.4149, 1.8946, 2.3646, 2.998, 3.4995],\n",
    "    [1.3968, 1.8595, 2.306, 2.8965, 3.3554],\n",
    "    [1.383, 1.8331, 2.2622, 2.8214, 3.2498],\n",
    "    [1.3722, 1.8125, 2.2281, 2.7638, 3.1693],\n",
    "    [1.3634, 1.7959, 2.201, 2.7181, 3.1058],\n",
    "    [1.3562, 1.7823, 2.1788, 2.681, 3.0545],\n",
    "    [1.3502, 1.7709, 2.1604, 2.6503, 3.0123],\n",
    "    [1.345, 1.7613, 2.1448, 2.6245, 2.9768],\n",
    "    [1.3406, 1.7531, 2.1314, 2.6025, 2.9467],\n",
    "    [1.3368, 1.7459, 2.1199, 2.5835, 2.9208],\n",
    "    [1.3334, 1.7396, 2.1098, 2.5669, 2.8982],\n",
    "    [1.3304, 1.7341, 2.1009, 2.5524, 2.8784],\n",
    "    [1.3277, 1.7291, 2.093, 2.5395, 2.8609],\n",
    "    [1.3253, 1.7247, 2.086, 2.528, 2.8453],\n",
    "    [1.3232, 1.7207, 2.0796, 2.5176, 2.8314],\n",
    "    [1.3212, 1.7171, 2.0739, 2.5083, 2.8188],\n",
    "    [1.3195, 1.7139, 2.0687, 2.4999, 2.8073],\n",
    "    [1.3178, 1.7109, 2.0639, 2.4922, 2.7969],\n",
    "    [1.3163, 1.7081, 2.0595, 2.4851, 2.7874],\n",
    "    [1.315, 1.7056, 2.0555, 2.4786, 2.7787],\n",
    "    [1.3137, 1.7033, 2.0518, 2.4727, 2.7707],\n",
    "    [1.3125, 1.7011, 2.0484, 2.4671, 2.7633],\n",
    "    [1.3114, 1.6991, 2.0452, 2.462, 2.7564]\n",
    "]\n",
    "\n",
    "def pos(num):\n",
    "    if (num == 0.9):\n",
    "        return 0\n",
    "    elif (num == 0.95):\n",
    "        return 1\n",
    "    elif (num == 0.975):\n",
    "        return 2\n",
    "    elif (num == 0.99):\n",
    "        return 3\n",
    "    elif (num == 0.995):\n",
    "        return 4\n",
    "    else: \n",
    "        print(\"Position khong hop le!\")\n",
    "        return 0\n",
    "\n",
    "def phanvistudent(num, n):\n",
    "    if (n > 29):\n",
    "        print(\"Phan vi student khong hop le\")\n",
    "    else:\n",
    "        return student[n-1][pos(num)]\n",
    "    \n",
    "def wa2(case, mucynghia, n):\n",
    "    if (n > 29):\n",
    "        print(\">= 30\")\n",
    "    else:\n",
    "        if \"=\" in case:\n",
    "            num = 1 - mucynghia/2\n",
    "            r = phanvistudent(num,n-1)\n",
    "            print(\"W\\u03B1 = (-\\u221E, \"+ str(-r) +\") + (\"+ str(r) +\", +\\u221E)\")\n",
    "        elif \">\" in case:\n",
    "            num = 1 - mucynghia\n",
    "            r = phanvistudent(num,n-1)\n",
    "            print(\"W\\u03B1 = (\"+str(r) +\", +\\u221E)\")\n",
    "        elif \"<\" in case:\n",
    "            num = 1 - mucynghia\n",
    "            r = phanvistudent(num,n-1)\n",
    "            print(\"W\\u03B1 = (-\\u221E, \"+str(-r)+ \")\")\n",
    "        else:\n",
    "            print(\"Nhap lai\")\n",
    "            num = 0\n",
    "        print(\"t = (\"+ str(n-1) + \", \"+ str(num) + \")\")"
   ]
  },
  {
   "cell_type": "code",
   "execution_count": 3,
   "id": "70ba16ab",
   "metadata": {},
   "outputs": [],
   "source": [
    "def phanvi(alpha):\n",
    "    if (alpha == 0.9):\n",
    "        return 1.282\n",
    "    elif (alpha == 0.95):\n",
    "        return 1.645\n",
    "    elif (alpha == 0.975):\n",
    "        return 1.96\n",
    "    elif (alpha == 0.99):\n",
    "        return 2.326\n",
    "    elif (alpha == 0.995):\n",
    "        return 2.576\n",
    "    elif (alpha == 0.999):\n",
    "        return 3.09\n",
    "    elif (alpha == 0.9995):\n",
    "        return 3.2905\n",
    "    else:\n",
    "        print(\"Khong hop le!\")\n",
    "        return -1\n",
    "\n",
    "def wa(case,mucynghia):\n",
    "    if \"=\" in case:\n",
    "        result = 1 - mucynghia/2\n",
    "        print(\"W\\u03B1 = (-\\u221E, \"+ str(-phanvi(result)) +\") + (\"+ str(phanvi(result)) +\", +\\u221E)\")\n",
    "    elif \">\" in case:\n",
    "        print(\"W\\u03B1 = (\"+str(phanvi(1 - mucynghia)) +\", +\\u221E)\")\n",
    "    elif \"<\" in case:\n",
    "        print(\"W\\u03B1 = (-\\u221E, \"+str(-phanvi(1 - mucynghia))+ \")\")\n",
    "    else:\n",
    "        print(\"Nhap lai!\")\n",
    "        \n",
    "        \n",
    "def kivong2mau(x,y,s1,s2,n1,n2):\n",
    "    if (n1 < 30 or n2 < 30):\n",
    "        print(\"####Loại 1 phải không?####\")\n",
    "    k = round((x-y)/math.sqrt((s1*s1/n1)+(s2*s2/n2)),4)\n",
    "    print(\"k =\",k)\n",
    "    \n",
    "def kivong2mau2(x,y,s1,s2,n1,n2):\n",
    "    if (n1 > 30 or n2 > 30):\n",
    "        printf(\"#### Có nhầm không đấy? n quá lớn ####\")\n",
    "    else: \n",
    "        k = round((x-y)/math.sqrt((((n1-1)*s1*s1+(n2-1)*s2*s2)/(n1+n2-2))*(1/n1+1/n2)) ,4)\n",
    "        print(\"k =\",k)\n",
    "        \n",
    "def tile2mau(f1,f2,n1,n2):\n",
    "    fc = (n1*f1+n2*f2)/(n1+n2)\n",
    "    k = round((f1-f2)/math.sqrt(fc*(1-fc)*(1/n1+1/n2)), 4)\n",
    "    print(\"k =\",k)"
   ]
  },
  {
   "cell_type": "code",
   "execution_count": 4,
   "id": "b716dc3b",
   "metadata": {},
   "outputs": [],
   "source": [
    "#chuong 3\n",
    "def ulkivong(case, x, s, n, alpha):\n",
    "    if (n < 30):\n",
    "        print(\"Error: ####Loại 1 phải không?####\")\n",
    "    if \"=\" in case:\n",
    "        num = 1 - (1-alpha)/2\n",
    "        k1 = round(x - phanvi(num)*s/math.sqrt(n), 4)\n",
    "        k2 = round(x + phanvi(num)*s/math.sqrt(n), 4)\n",
    "        print(\"(\"+ str(k1)+\", \"+ str(k2)+\")\")\n",
    "        u = phanvi(num)\n",
    "        e = round (phanvi(num)*s/math.sqrt(n),4)\n",
    "    elif \">\" in case:\n",
    "        k = round(x + phanvi(alpha)*s/math.sqrt(n), 4)\n",
    "        print(\"(\"+str(k)+\", +\\u221E\")\n",
    "        u = phanvi(alpha)\n",
    "        e = round(phanvi(alpha)*s/math.sqrt(n), 4)\n",
    "    elif \"<\" in case:\n",
    "        k = round(x - phanvi(alpha)*s/math.sqrt(n), 4)\n",
    "        print(\"(-\\u221E, \"+str(k)+\")\")\n",
    "        u = phanvi(alpha)\n",
    "        e = round(phanvi(alpha)*s/math.sqrt(n), 4)\n",
    "    else:\n",
    "        print(\"Nhap lai!\")\n",
    "        u = 0\n",
    "        e = 0\n",
    "    print(\"u =\",u)\n",
    "    print(\"\\u03B5 =\",e)\n",
    "    print(\"2\\u03B5 =\",2*e)\n",
    "def ulkivong2(case, x, s, n, alpha):\n",
    "    if (n >= 30):\n",
    "        print(\"Error: n >= 30\")\n",
    "    else:\n",
    "        if \"=\" in case:\n",
    "            num = 1 - (1 - alpha)/2\n",
    "            k1 = round(x - phanvistudent(num,n-1)*s/math.sqrt(n), 4)\n",
    "            k2 = round(x + phanvistudent(num,n-1)*s/math.sqrt(n), 4)\n",
    "            print(\"(\"+ str(k1)+\", \"+ str(k2)+\")\")\n",
    "            e = round(phanvistudent(num,n-1)*s/math.sqrt(n), 4)\n",
    "        elif \">\" in case:\n",
    "            num = alpha\n",
    "            k = round(x + phanvistudent(alpha, n-1)*s/math.sqrt(n), 4)\n",
    "            print(\"(\"+str(k)+\", +\\u221E)\")\n",
    "            e = round(phanvistudent(alpha, n-1)*s/math.sqrt(n), 4)\n",
    "        elif \"<\" in case:\n",
    "            num = alpha\n",
    "            k = round(x - phanvistudent(alpha, n-1)*s/math.sqrt(n), 4)\n",
    "            print(\"(-\\u221E, \"+str(k)+\")\")\n",
    "            e = round(phanvistudent(alpha, n-1)*s/math.sqrt(n), 4)\n",
    "        else:\n",
    "            print(\"Nhap lai!\")\n",
    "            u = 0\n",
    "            e = 0\n",
    "        print(\"t = (\"+ str(n-1) + \", \"+ str(num) + \") = \"+ str(phanvistudent(num,n-1)))\n",
    "        print(\"\\u03B5 =\",e)\n",
    "        print(\"2\\u03B5 =\",2*e)\n",
    "            \n",
    "def ultile(case, f, n, dtc): #100% accuracy\n",
    "    percentage = 1\n",
    "    if (n < 30):\n",
    "        print(\"Error: ####Loại 1 phải không?####\")\n",
    "    if \"=\" in case:\n",
    "        num = 1 - (1-dtc)/2\n",
    "        k1 = percentage * round( f - phanvi(num)*math.sqrt((f*(1-f))/n) ,5)\n",
    "        k2 = percentage * round( f + phanvi(num)*math.sqrt((f*(1-f))/n) ,5)\n",
    "        print(\"(\"+ str(k1)+\", \"+ str(k2)+\")\")\n",
    "        print(\"(\"+ str(k1*100) +\"%, \"+ str(k2*100)+\"%)\")\n",
    "        u = phanvi(num)\n",
    "        e = round(phanvi(num) * math.sqrt((f*(1-f))/n),4)\n",
    "    elif \">\" in case:\n",
    "        k = percentage * round(f + phanvi(dtc)*math.sqrt((f*(1-f))/n), 5)\n",
    "        print(\"(0, \"+str(k)+\")\")\n",
    "        print(\"(0%, \"+str(k*100)+\"%)\")\n",
    "        u = phanvi(dtc)\n",
    "        e = round(phanvi(dtc)*math.sqrt((f*(1-f))/n), 5)\n",
    "    elif \"<\" in case:\n",
    "        k = percentage * round(f - phanvi(dtc)*math.sqrt((f*(1-f))/n), 5)\n",
    "        print(\"(\"+str(k)+\", 1)\")\n",
    "        print(\"(\"+str(k*100)+\"%, 100%)\")\n",
    "        u = phanvi(dtc)\n",
    "        e = round(phanvi(dtc)*math.sqrt((f*(1-f))/n), 5)\n",
    "    print(\"u =\",u)\n",
    "    print(\"\\u03B5 =\",e)\n",
    "    print(\"2\\u03B5 =\",2*e)"
   ]
  },
  {
   "cell_type": "code",
   "execution_count": 5,
   "id": "391bef7c",
   "metadata": {},
   "outputs": [],
   "source": [
    "def kivong1mau(x,muy,s,n):\n",
    "    k = round((x-muy)/s*math.sqrt(n),4)\n",
    "    print(\"k =\",k)\n",
    "\n",
    "def tile1mau(f,p,n):\n",
    "    k = round((f-p)/math.sqrt(p*(1-p))*math.sqrt(n),4)\n",
    "    print(\"k =\",k)"
   ]
  },
  {
   "cell_type": "code",
   "execution_count": 6,
   "id": "56a830cc",
   "metadata": {},
   "outputs": [],
   "source": [
    "def kiemdinh1maukivong():\n",
    "    x = float(input(\"x =\"))\n",
    "    muy = float(input(\"muy =\"))\n",
    "    s = float(input(\"s =\"))\n",
    "    n = int(input(\"n =\"))\n",
    "    kivong1mau(x,muy,s,n)"
   ]
  },
  {
   "cell_type": "code",
   "execution_count": 7,
   "id": "a9a4207d",
   "metadata": {},
   "outputs": [
    {
     "name": "stdout",
     "output_type": "stream",
     "text": [
      "(0.10595, 0.16605)\n",
      "(10.595%, 16.605%)\n",
      "u = 1.96\n",
      "ε = 0.03\n",
      "2ε = 0.06\n"
     ]
    }
   ],
   "source": [
    "#20171@1\n",
    "ultile(\"=\",68/500,500,0.95)"
   ]
  },
  {
   "cell_type": "code",
   "execution_count": 8,
   "id": "17a8ac32",
   "metadata": {},
   "outputs": [
    {
     "name": "stdout",
     "output_type": "stream",
     "text": [
      "(0.20552, 0.25448)\n",
      "(20.552%, 25.447999999999997%)\n",
      "u = 1.645\n",
      "ε = 0.0245\n",
      "2ε = 0.049\n"
     ]
    }
   ],
   "source": [
    "#20171@2\n",
    "ultile(\"=\",184/800,800,0.9)"
   ]
  },
  {
   "cell_type": "code",
   "execution_count": 9,
   "id": "421895af",
   "metadata": {},
   "outputs": [
    {
     "name": "stdout",
     "output_type": "stream",
     "text": [
      "(0.23784, 0.46216)\n",
      "(23.784%, 46.216%)\n",
      "u = 2.576\n",
      "ε = 0.1122\n",
      "2ε = 0.2244\n"
     ]
    }
   ],
   "source": [
    "#20172@3\n",
    "ultile(\"=\",42/120,120,0.99)"
   ]
  },
  {
   "cell_type": "code",
   "execution_count": 10,
   "id": "012f526f",
   "metadata": {},
   "outputs": [
    {
     "name": "stdout",
     "output_type": "stream",
     "text": [
      "(6.7659, 13.0523)\n",
      "t = (10, 0.975) = 2.2281\n",
      "ε = 3.1432\n",
      "2ε = 6.2864\n"
     ]
    }
   ],
   "source": [
    "#20173@4\n",
    "ulkivong2(\"=\",9.90909,4.678772178,11,0.95)"
   ]
  },
  {
   "cell_type": "code",
   "execution_count": 11,
   "id": "9679e27c",
   "metadata": {},
   "outputs": [
    {
     "name": "stdout",
     "output_type": "stream",
     "text": [
      "(0.35263, 0.38678)\n",
      "(35.263%, 38.678000000000004%)\n",
      "u = 1.96\n",
      "ε = 0.0171\n",
      "2ε = 0.0342\n"
     ]
    }
   ],
   "source": [
    "#20181@5\n",
    "#a\n",
    "ultile(\"=\",1135/3070,3070,0.95)"
   ]
  },
  {
   "cell_type": "code",
   "execution_count": 12,
   "id": "5a32e2bb",
   "metadata": {},
   "outputs": [
    {
     "name": "stdout",
     "output_type": "stream",
     "text": [
      "(10932.4493, 11567.5507)\n",
      "u = 1.96\n",
      "ε = 317.5507\n",
      "2ε = 635.1014\n"
     ]
    }
   ],
   "source": [
    "#20181@6\n",
    "#a\n",
    "ulkivong(\"=\",11250,2112.426036,170,0.95)"
   ]
  },
  {
   "cell_type": "code",
   "execution_count": 13,
   "id": "0a45f7e9",
   "metadata": {},
   "outputs": [
    {
     "name": "stdout",
     "output_type": "stream",
     "text": [
      "(113.9208, 116.5792)\n",
      "u = 1.645\n",
      "ε = 1.3292\n",
      "2ε = 2.6584\n"
     ]
    }
   ],
   "source": [
    "#20182@7\n",
    "ulkivong(\"=\",115.25,11.42761796,200,0.9)"
   ]
  },
  {
   "cell_type": "code",
   "execution_count": 14,
   "id": "4bdbd923",
   "metadata": {},
   "outputs": [
    {
     "name": "stdout",
     "output_type": "stream",
     "text": [
      "(167.9151, 170.7849)\n",
      "u = 1.645\n",
      "ε = 1.4349\n",
      "2ε = 2.8698\n"
     ]
    }
   ],
   "source": [
    "#20182@8\n",
    "ulkivong(\"=\",169.35,8.722865575,100,0.9)"
   ]
  },
  {
   "cell_type": "code",
   "execution_count": 15,
   "id": "b6068795",
   "metadata": {},
   "outputs": [
    {
     "name": "stdout",
     "output_type": "stream",
     "text": [
      "(1.9739, 2.0523)\n",
      "t = (15, 0.975) = 2.1314\n",
      "ε = 0.0392\n",
      "2ε = 0.0784\n"
     ]
    }
   ],
   "source": [
    "#20192@9\n",
    "#a\n",
    "ulkivong2(\"=\",2.013125,0.0735498697,16,0.95)"
   ]
  },
  {
   "cell_type": "code",
   "execution_count": 16,
   "id": "cceac169",
   "metadata": {},
   "outputs": [
    {
     "name": "stdout",
     "output_type": "stream",
     "text": [
      "(8.4143, 50.9857)\n",
      "t = (9, 0.975) = 2.2622\n",
      "ε = 21.2857\n",
      "2ε = 42.5714\n"
     ]
    }
   ],
   "source": [
    "#20193@10\n",
    "#b\n",
    "ulkivong2(\"=\", 29.7,29.75473818,10,0.95)"
   ]
  },
  {
   "cell_type": "code",
   "execution_count": 17,
   "id": "42bfdae3",
   "metadata": {},
   "outputs": [
    {
     "name": "stdout",
     "output_type": "stream",
     "text": [
      "(4.951, 5.049)\n",
      "u = 1.96\n",
      "ε = 0.049\n",
      "2ε = 0.098\n"
     ]
    }
   ],
   "source": [
    "#11\n",
    "ulkivong(\"=\",5,0.25,100,0.95)"
   ]
  },
  {
   "cell_type": "code",
   "execution_count": 18,
   "id": "2add399e",
   "metadata": {},
   "outputs": [
    {
     "name": "stdout",
     "output_type": "stream",
     "text": [
      "(980.4, 1019.6)\n",
      "u = 1.96\n",
      "ε = 19.6\n",
      "2ε = 39.2\n"
     ]
    }
   ],
   "source": [
    "#12\n",
    "ulkivong(\"=\",1000,100,100,0.95)"
   ]
  },
  {
   "cell_type": "code",
   "execution_count": 19,
   "id": "d6c66e97",
   "metadata": {},
   "outputs": [
    {
     "name": "stdout",
     "output_type": "stream",
     "text": [
      "(12.1789, 12.2343)\n",
      "u = 1.96\n",
      "ε = 0.0277\n",
      "2ε = 0.0554\n"
     ]
    }
   ],
   "source": [
    "#13\n",
    "#x = 12.20660377\n",
    "#s = 0.1028618079\n",
    "ulkivong(\"=\",12.20660377, 0.1028618079,53,0.95)\n",
    "#102 trường hop"
   ]
  },
  {
   "cell_type": "code",
   "execution_count": 20,
   "id": "b373f3e7",
   "metadata": {},
   "outputs": [
    {
     "name": "stdout",
     "output_type": "stream",
     "text": [
      "(0.10595, 0.16605)\n",
      "(10.595%, 16.605%)\n",
      "u = 1.96\n",
      "ε = 0.03\n",
      "2ε = 0.06\n",
      "\n",
      "k = -1.0295\n",
      "Wα = (-∞, -2.3646) + (2.3646, +∞)\n",
      "t = (7, 0.975)\n"
     ]
    }
   ],
   "source": [
    "#20171\n",
    "ultile(\"=\",68/500,500,0.95)\n",
    "print()\n",
    "kivong2mau2(2.5375,2.925,0.7463003991,0.7592289322,8,8)\n",
    "wa2(\"=\",0.05,8)"
   ]
  },
  {
   "cell_type": "code",
   "execution_count": 21,
   "id": "e88efca4",
   "metadata": {},
   "outputs": [
    {
     "name": "stdout",
     "output_type": "stream",
     "text": [
      "(0.23784, 0.46216)\n",
      "(23.784%, 46.216%)\n",
      "u = 2.576\n",
      "ε = 0.1122\n",
      "2ε = 0.2244\n",
      "151 mẫu\n",
      "(0.25001, 0.44999)\n",
      "(25.001%, 44.999%)\n",
      "u = 2.576\n",
      "ε = 0.1\n",
      "2ε = 0.2\n",
      "\n",
      "k = 5.9921\n",
      "Wα = (1.645, +∞)\n",
      "Kết luận lớn hơn 2kg\n"
     ]
    }
   ],
   "source": [
    "#20172\n",
    "ultile(\"=\",42/120,120,0.99)\n",
    "print(\"151 mẫu\")\n",
    "ultile(\"=\",42/120,151,0.99)\n",
    "print()\n",
    "kivong1mau(2.1850,2,0.3781245667,150)\n",
    "wa(\">\",0.05)\n",
    "print(\"Kết luận lớn hơn 2kg\")"
   ]
  },
  {
   "cell_type": "code",
   "execution_count": 22,
   "id": "142fe35c",
   "metadata": {},
   "outputs": [
    {
     "name": "stdout",
     "output_type": "stream",
     "text": [
      "(6.7659, 13.0523)\n",
      "t = (10, 0.975) = 2.2281\n",
      "ε = 3.1432\n",
      "2ε = 6.2864\n",
      "\n",
      "k = 0.4588\n",
      "Wα = (1.645, +∞)\n",
      "Không thể kết luận như thế đc\n"
     ]
    }
   ],
   "source": [
    "#20173\n",
    "ulkivong2(\"=\",9.909090909,4.678772178,11,0.95)\n",
    "print()\n",
    "tile1mau(4/64,0.05,64)\n",
    "wa(\">\",0.05)\n",
    "print(\"Không thể kết luận như thế đc\")"
   ]
  },
  {
   "cell_type": "code",
   "execution_count": 23,
   "id": "f754a2d8",
   "metadata": {},
   "outputs": [
    {
     "name": "stdout",
     "output_type": "stream",
     "text": [
      "(0.35263, 0.38678)\n",
      "(35.263%, 38.678000000000004%)\n",
      "u = 1.96\n",
      "ε = 0.0171\n",
      "2ε = 0.0342\n",
      "Khong\n",
      "\n",
      "k = -0.9381\n",
      "Wα = (-∞, -3.4995) + (3.4995, +∞)\n",
      "t = (7, 0.995)\n",
      "Như nhau\n"
     ]
    }
   ],
   "source": [
    "#20181\n",
    "ultile(\"=\",1135/3070,3070,0.95)\n",
    "print(\"Khong\")\n",
    "print()\n",
    "kivong2mau2(59.625,64,10.32247894,8.211490208,8,8)\n",
    "wa2(\"=\",0.01,8)\n",
    "print(\"Như nhau\")"
   ]
  },
  {
   "cell_type": "code",
   "execution_count": 24,
   "id": "eb930b8e",
   "metadata": {},
   "outputs": [
    {
     "name": "stdout",
     "output_type": "stream",
     "text": [
      "(113.9208, 116.5792)\n",
      "u = 1.645\n",
      "ε = 1.3292\n",
      "2ε = 2.6584\n",
      "\n",
      "k = -2.1213\n",
      "Wα = (-∞, -1.645)\n",
      "Thấp hơn\n"
     ]
    }
   ],
   "source": [
    "#20182\n",
    "ulkivong(\"=\",115.25,11.42761796,200,0.9)\n",
    "print()\n",
    "tile1mau(85/200,0.5,200)\n",
    "wa(\"<\",0.05)\n",
    "print(\"Thấp hơn\")"
   ]
  },
  {
   "cell_type": "code",
   "execution_count": 25,
   "id": "084dc443",
   "metadata": {},
   "outputs": [
    {
     "name": "stdout",
     "output_type": "stream",
     "text": [
      "k = 2.1644\n",
      "Wα = (1.645, +∞)\n",
      "Lớn hơn => nên\n",
      "(0.61018, 0.78982)\n",
      "(61.017999999999994%, 78.982%)\n",
      "u = 1.96\n",
      "ε = 0.0898\n",
      "2ε = 0.1796\n",
      "\n",
      "k = 0.823\n",
      "Wα = (1.645, +∞)\n",
      "Không thể coi là cao hơn\n"
     ]
    }
   ],
   "source": [
    "#20183\n",
    "kivong1mau(35.685,35.5,0.8547401992,100)\n",
    "wa(\">\",0.05)\n",
    "print(\"Lớn hơn => nên\")\n",
    "ultile(\"=\",70/100,100,0.95)\n",
    "print()\n",
    "kivong2mau(35.8,35.685,1.1055,0.8547401992,100,100)\n",
    "wa(\">\",0.05)\n",
    "print(\"Không thể coi là cao hơn\")"
   ]
  },
  {
   "cell_type": "code",
   "execution_count": 26,
   "id": "8fd461bc",
   "metadata": {},
   "outputs": [
    {
     "name": "stdout",
     "output_type": "stream",
     "text": [
      "(40.592, 44.208)\n",
      "u = 1.96\n",
      "ε = 1.808\n",
      "2ε = 3.616\n",
      "\n",
      "b\n",
      "k = 2.6018\n",
      "Wα = (-∞, -1.96) + (1.96, +∞)\n",
      "không đúng\n",
      "\n",
      "5\n",
      "k = -0.5371\n",
      "Wα = (-∞, -2.576) + (2.576, +∞)\n",
      "như nhau\n"
     ]
    }
   ],
   "source": [
    "#20191\n",
    "ulkivong(\"=\",42.4,9.224473377,100,0.95)\n",
    "print(\"\\nb\")\n",
    "kivong1mau(42.4,40,9.224473377,100)\n",
    "wa(\"=\",0.05)\n",
    "print(\"không đúng\")\n",
    "print(\"\\n5\")\n",
    "kivong2mau(42.4,43,9.224473377,8.912,100,200)\n",
    "wa(\"=\",0.01)\n",
    "print(\"như nhau\")"
   ]
  },
  {
   "cell_type": "code",
   "execution_count": 27,
   "id": "e8ab3894",
   "metadata": {},
   "outputs": [
    {
     "name": "stdout",
     "output_type": "stream",
     "text": [
      "(1.9739, 2.0523)\n",
      "t = (15, 0.975) = 2.1314\n",
      "ε = 0.0392\n",
      "2ε = 0.0784\n",
      "b = 0.5695\n",
      "\n",
      "k = -0.1968\n",
      "Wα = (-∞, -1.96) + (1.96, +∞)\n",
      "như nhau\n"
     ]
    }
   ],
   "source": [
    "#20192\n",
    "\n",
    "ulkivong2(\"=\",2.013125,0.0735498697,16,0.95)\n",
    "print(\"b = 0.5695\")\n",
    "print()\n",
    "tile2mau(15/200,20/250,200,250)\n",
    "\n",
    "wa(\"=\",0.05)\n",
    "print(\"như nhau\")"
   ]
  },
  {
   "cell_type": "code",
   "execution_count": 28,
   "id": "323d9d11",
   "metadata": {},
   "outputs": [
    {
     "name": "stdout",
     "output_type": "stream",
     "text": [
      "cau 4\n",
      "b\n",
      "(27.4711, 33.2089)\n",
      "t = (9, 0.975) = 2.2622\n",
      "ε = 2.8689\n",
      "2ε = 5.7378\n",
      "\n",
      "cau 5\n",
      "k = -0.2574\n",
      "Wα = (-∞, -2.2281) + (2.2281, +∞)\n",
      "t = (10, 0.975)\n",
      "giống nhau\n",
      "cau b: Wα = (-∞, -2.7638)\n",
      "t = (10, 0.99)\n",
      "không thể kết luận vòng thi 2 cho kết quả tốt hơn\n"
     ]
    }
   ],
   "source": [
    "#20193\n",
    "print(\"cau 4\")\n",
    "print(\"b\")\n",
    "\n",
    "ulkivong2(\"=\",30.34,4.01032002,10,0.95)\n",
    "\n",
    "print(\"\\ncau 5\")\n",
    "\n",
    "\n",
    "kivong2mau2(61.4545454545,64,23.35107551,23.03041467,11,11)\n",
    "wa2(\"=\",0.05,11)\n",
    "print(\"giống nhau\")\n",
    "print(\"cau b: \",end = \"\")\n",
    "wa2(\"<\",0.01,11)\n",
    "print(\"không thể kết luận vòng thi 2 cho kết quả tốt hơn\")"
   ]
  },
  {
   "cell_type": "code",
   "execution_count": 30,
   "id": "1796c96c",
   "metadata": {},
   "outputs": [
    {
     "name": "stdout",
     "output_type": "stream",
     "text": [
      "(8.5349, 9.2051)\n",
      "u = 1.96\n",
      "ε = 0.3351\n",
      "2ε = 0.6702\n",
      "195 mẫu\n",
      "(8.6301, 9.1099)\n",
      "u = 1.96\n",
      "ε = 0.2399\n",
      "2ε = 0.4798\n",
      "\n",
      "cau 5\n",
      "k = 1.6587\n",
      "Wα = (2.326, +∞)\n",
      "không thể coi là cao hơn tỷ lệ sản phẩm loại B\n"
     ]
    }
   ],
   "source": [
    "#20201\n",
    "ulkivong(\"=\",8.87,1.709480398,100,0.95)\n",
    "print(\"195 mẫu\")\n",
    "ulkivong(\"=\",8.87,1.709480398,195,0.95)\n",
    "print(\"\\ncau 5\")\n",
    "tile2mau(35/1000,20/900,1000,900)\n",
    "wa(\">\",0.01)\n",
    "print(\"không thể coi là cao hơn tỷ lệ sản phẩm loại B\")"
   ]
  },
  {
   "cell_type": "code",
   "execution_count": 31,
   "id": "594e8ea1",
   "metadata": {},
   "outputs": [
    {
     "name": "stdout",
     "output_type": "stream",
     "text": [
      "(14.02, 15.98)\n",
      "u = 1.96\n",
      "ε = 0.98\n",
      "2ε = 1.96\n"
     ]
    }
   ],
   "source": [
    "ulkivong(\"=\",15,5,100,0.95)"
   ]
  },
  {
   "cell_type": "code",
   "execution_count": 32,
   "id": "54b4498d",
   "metadata": {},
   "outputs": [
    {
     "name": "stdout",
     "output_type": "stream",
     "text": [
      "Wα = (2.326, +∞)\n"
     ]
    }
   ],
   "source": [
    "wa(\">\",0.01)"
   ]
  },
  {
   "cell_type": "code",
   "execution_count": 33,
   "id": "7d885cde",
   "metadata": {},
   "outputs": [
    {
     "name": "stdout",
     "output_type": "stream",
     "text": [
      "Wα = (1.7109, +∞)\n",
      "t = (24, 0.95)\n"
     ]
    }
   ],
   "source": [
    "wa2(\">\",0.05,25)"
   ]
  },
  {
   "cell_type": "code",
   "execution_count": 34,
   "id": "c918da3b",
   "metadata": {},
   "outputs": [
    {
     "name": "stdout",
     "output_type": "stream",
     "text": [
      "(0, 0.65698)\n",
      "(0%, 65.69800000000001%)\n",
      "u = 1.645\n",
      "ε = 0.05698\n",
      "2ε = 0.11396\n"
     ]
    }
   ],
   "source": [
    "ultile(\">\",120/200,200,0.95)"
   ]
  },
  {
   "cell_type": "code",
   "execution_count": 38,
   "id": "5e8adc43",
   "metadata": {},
   "outputs": [
    {
     "name": "stdout",
     "output_type": "stream",
     "text": [
      "Wα = (-∞, -1.645)\n"
     ]
    }
   ],
   "source": [
    "wa(\"<\",0.05)"
   ]
  },
  {
   "cell_type": "code",
   "execution_count": 39,
   "id": "a4d75b34",
   "metadata": {},
   "outputs": [
    {
     "name": "stdout",
     "output_type": "stream",
     "text": [
      "k = 1.1\n"
     ]
    }
   ],
   "source": [
    "kivong1mau(8950,8400,2500,25)"
   ]
  },
  {
   "cell_type": "code",
   "execution_count": 42,
   "id": "51f115fd",
   "metadata": {},
   "outputs": [
    {
     "name": "stdout",
     "output_type": "stream",
     "text": [
      "k = 0.3634\n",
      "Wα = (1.645, +∞)\n"
     ]
    }
   ],
   "source": [
    "tile2mau(6/100,10/200,100,200)\n",
    "wa(\">\",0.05)"
   ]
  },
  {
   "cell_type": "code",
   "execution_count": 43,
   "id": "c47b19f8",
   "metadata": {},
   "outputs": [
    {
     "name": "stdout",
     "output_type": "stream",
     "text": [
      "(0.26592, 0.45408)\n",
      "(26.592%, 45.408%)\n",
      "u = 1.96\n",
      "ε = 0.0941\n",
      "2ε = 0.1882\n"
     ]
    }
   ],
   "source": [
    "ultile(\"=\",36/100,100,0.95)"
   ]
  },
  {
   "cell_type": "code",
   "execution_count": 48,
   "id": "df8d5d23",
   "metadata": {},
   "outputs": [
    {
     "name": "stdout",
     "output_type": "stream",
     "text": [
      "k = 3.5118\n",
      "Wα = (1.7109, +∞)\n",
      "t = (24, 0.95)\n"
     ]
    }
   ],
   "source": [
    "kivong1mau(0.83725,0.82,0.02456,25)\n",
    "wa2(\">\",0.05,25)"
   ]
  },
  {
   "cell_type": "code",
   "execution_count": 49,
   "id": "ac888be2",
   "metadata": {},
   "outputs": [
    {
     "name": "stdout",
     "output_type": "stream",
     "text": [
      "(5.5175, 5.8525)\n",
      "u = 1.96\n",
      "ε = 0.1675\n",
      "2ε = 0.335\n"
     ]
    }
   ],
   "source": [
    "ulkivong(\"=\",5.685,0.8547,100,0.95)"
   ]
  },
  {
   "cell_type": "code",
   "execution_count": 51,
   "id": "0cbcb144",
   "metadata": {},
   "outputs": [
    {
     "name": "stdout",
     "output_type": "stream",
     "text": [
      "k = 1.8129\n",
      "Wα = (-∞, -1.96) + (1.96, +∞)\n"
     ]
    }
   ],
   "source": [
    "tile2mau(30/900,20/1000,900,1000)\n",
    "wa(\"=\",0.05)"
   ]
  },
  {
   "cell_type": "code",
   "execution_count": 52,
   "id": "e981e5af",
   "metadata": {},
   "outputs": [
    {
     "name": "stdout",
     "output_type": "stream",
     "text": [
      "(0.1342, 0.2658)\n",
      "(13.420000000000002%, 26.58%)\n",
      "u = 1.645\n",
      "ε = 0.0658\n",
      "2ε = 0.1316\n"
     ]
    }
   ],
   "source": [
    "ultile(\"=\",20/100,100,0.9)"
   ]
  },
  {
   "cell_type": "code",
   "execution_count": null,
   "id": "ca7d7b63",
   "metadata": {},
   "outputs": [],
   "source": []
  }
 ],
 "metadata": {
  "kernelspec": {
   "display_name": "Python 3",
   "language": "python",
   "name": "python3"
  },
  "language_info": {
   "codemirror_mode": {
    "name": "ipython",
    "version": 3
   },
   "file_extension": ".py",
   "mimetype": "text/x-python",
   "name": "python",
   "nbconvert_exporter": "python",
   "pygments_lexer": "ipython3",
   "version": "3.6.9"
  }
 },
 "nbformat": 4,
 "nbformat_minor": 5
}
