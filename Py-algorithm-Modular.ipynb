{
 "cells": [
  {
   "cell_type": "code",
   "execution_count": 1,
   "id": "9abb0407",
   "metadata": {},
   "outputs": [],
   "source": [
    "import gmpy2"
   ]
  },
  {
   "cell_type": "code",
   "execution_count": 2,
   "id": "45de3ac3",
   "metadata": {},
   "outputs": [],
   "source": [
    "#-----------------------------------Euclid\n",
    "def gcd (a, b):\n",
    "  if b == 0: return a\n",
    "  else: return gcd(b, a%b)\n",
    "\n",
    "#print(gcd(748,2024))\n",
    "\n",
    "def extended_euclid(a, b):\n",
    "  if b == 0: return a, 1, 0\n",
    "  else:\n",
    "    dt, xt, yt = extended_euclid(b, a %b)\n",
    "    d, x, y = dt, yt, xt - (a//b)*yt\n",
    "    return d, x, y\n",
    "\n",
    "def modInv(a, n):\n",
    "  d,x,y = extended_euclid(a, n)\n",
    "  if d != 1: return -1 #khong co nghich dao\n",
    "  b = x % n\n",
    "  return b\n",
    "\n",
    "#-----------------------------------Tinh luy thua nhanh\n",
    "def modExpo(a, b, n):\n",
    "  if b == 0: \n",
    "    return 1\n",
    "  if b == 1: \n",
    "    return a\n",
    "  r = modExpo(a, b//2, n)\n",
    "  r = (r*r) % n\n",
    "  if b % 2 == 1:\n",
    "    r = (r * a) % n  \n",
    "  return r\n",
    "# Tinh luy thua a ^ b module n\n",
    "a = 976\n",
    "b = 3532\n",
    "n = 11413\n",
    "\n",
    "#print(modExpo(a, b, n))\n",
    "\n",
    "#Fermat a ^ (p-1) = 1 mod p với p là số nguyên tố\n",
    "# => 1 cách tính modInv mới a^-1 mod p = a^(p-2) mod p\n",
    "#a = 5\n",
    "#p=18446744073709551629\n",
    "#modinverse = modExpo(a,p-2,p)\n",
    "#print(modinverse)\n",
    "#print(modInv(a,n)) #The same\n",
    "#------------------------------------------\n",
    "n = 1048583\n",
    "a = 220801\n",
    "#Tìm DLog_2(a) mod n\n",
    "def DLog(g, a, n):\n",
    "  for i in range(1,n):\n",
    "    if(modExpo(g, i, n) == a):\n",
    "      return i\n",
    "  return -1\n",
    "\n",
    "#Diffie-Hellman function\n",
    "def DH(g, gx, gy, p):\n",
    "  x = DLog(g,gx,p)\n",
    "  ans = modExpo(gy,x,p)\n",
    "  return ans\n",
    "#print(DH(2,5,7,11))\n",
    "#print(DH(5,17,15,23))\n",
    "\n",
    "#Tìm phần tử sinh của Zp\n",
    "def Gen_element(mod):\n",
    "  group = []\n",
    "  ans = []\n",
    "  for i in range(1,mod):\n",
    "    if gcd(i, mod) == 1:\n",
    "      group.append(i)\n",
    "  for i in group:\n",
    "    if DLog(i,1,mod) == len(group):\n",
    "      ans.append(i)\n",
    "  length = len(ans)\n",
    "  return ans, length\n",
    "\n",
    "# f(mod) = (p-1)*(q-1): p,q là các số nguyên tố sao cho mod = p * q\n",
    "# Tim phần tử trong nhóm Z*_p\n",
    "def element(mod):\n",
    "  group = []\n",
    "  for i in range(1, mod):\n",
    "    if gcd(i, mod) == 1:\n",
    "      group.append(i)\n",
    "  length = len(group)\n",
    "  return group, length\n",
    "\n"
   ]
  },
  {
   "cell_type": "code",
   "execution_count": 3,
   "id": "dfe42c71",
   "metadata": {},
   "outputs": [
    {
     "name": "stdout",
     "output_type": "stream",
     "text": [
      "[1, 2, 3, 4, 5, 6, 7, 8, 9, 10, 12, 14, 15, 16, 17, 18, 19, 20, 21, 23, 24, 25, 27, 28, 29, 30, 31, 32, 34, 35, 36, 37, 38, 40, 41, 42, 43, 45, 46, 47, 48, 49, 50, 51, 53, 54, 56, 57, 58, 59, 60, 61, 62, 63, 64, 67, 68, 69, 70, 71, 72, 73, 74, 75, 76, 79, 80, 81, 82, 83, 84, 85, 86, 87, 89, 90, 92, 93, 94, 95, 96, 97, 98, 100, 101, 102, 103, 105, 106, 107, 108, 109, 111, 112, 113, 114, 115, 116, 118, 119, 120, 122, 123, 124, 125, 126, 127, 128, 129, 131, 133, 134, 135, 136, 137, 138, 139, 140, 141, 142]\n",
      "120\n"
     ]
    }
   ],
   "source": [
    "#--RSA encryption\n",
    "p = 13\n",
    "q = 11\n",
    "e = 7\n",
    "group , length = element(p*q)\n",
    "print(group)\n",
    "print(length)\n",
    "d = modInv(e,120)"
   ]
  },
  {
   "cell_type": "code",
   "execution_count": 4,
   "id": "5b3e709c",
   "metadata": {},
   "outputs": [
    {
     "name": "stdout",
     "output_type": "stream",
     "text": [
      "63\n"
     ]
    }
   ],
   "source": [
    "y = 2\n",
    "print(modExpo(y,d,p*q))"
   ]
  },
  {
   "cell_type": "code",
   "execution_count": 5,
   "id": "50a9029c",
   "metadata": {},
   "outputs": [
    {
     "name": "stdout",
     "output_type": "stream",
     "text": [
      "10\n"
     ]
    }
   ],
   "source": [
    "y = 10\n",
    "print(modExpo(y,d,p*q))#"
   ]
  },
  {
   "cell_type": "code",
   "execution_count": 6,
   "id": "fd735d98",
   "metadata": {},
   "outputs": [
    {
     "name": "stdout",
     "output_type": "stream",
     "text": [
      "16\n"
     ]
    }
   ],
   "source": [
    "y = 3 \n",
    "print(modExpo(y,d,p*q))"
   ]
  },
  {
   "cell_type": "code",
   "execution_count": 7,
   "id": "acba106a",
   "metadata": {
    "scrolled": true
   },
   "outputs": [
    {
     "name": "stdout",
     "output_type": "stream",
     "text": [
      "125\n"
     ]
    }
   ],
   "source": [
    "y = 5\n",
    "print(modExpo(y,d,p*q))"
   ]
  },
  {
   "cell_type": "code",
   "execution_count": 8,
   "id": "99d09785",
   "metadata": {},
   "outputs": [
    {
     "name": "stdout",
     "output_type": "stream",
     "text": [
      "98\n"
     ]
    }
   ],
   "source": [
    "print(modInv(15,113))#"
   ]
  },
  {
   "cell_type": "code",
   "execution_count": 9,
   "id": "668cabca",
   "metadata": {},
   "outputs": [
    {
     "name": "stdout",
     "output_type": "stream",
     "text": [
      "106\n"
     ]
    }
   ],
   "source": [
    "print(modInv(16,113))#"
   ]
  },
  {
   "cell_type": "code",
   "execution_count": 10,
   "id": "bc794500",
   "metadata": {},
   "outputs": [
    {
     "name": "stdout",
     "output_type": "stream",
     "text": [
      "20\n"
     ]
    }
   ],
   "source": [
    "print(modInv(17,113))#"
   ]
  },
  {
   "cell_type": "code",
   "execution_count": 11,
   "id": "bbf062a9",
   "metadata": {},
   "outputs": [
    {
     "name": "stdout",
     "output_type": "stream",
     "text": [
      "8\n"
     ]
    }
   ],
   "source": [
    "print(DLog(2,9,13))#"
   ]
  },
  {
   "cell_type": "code",
   "execution_count": 12,
   "id": "d54a7181",
   "metadata": {},
   "outputs": [
    {
     "name": "stdout",
     "output_type": "stream",
     "text": [
      "10\n"
     ]
    }
   ],
   "source": [
    "print(DLog(2,10,13))#"
   ]
  },
  {
   "cell_type": "code",
   "execution_count": 13,
   "id": "deb83f00",
   "metadata": {},
   "outputs": [
    {
     "name": "stdout",
     "output_type": "stream",
     "text": [
      "7\n"
     ]
    }
   ],
   "source": [
    "print(DLog(2,11,13))#"
   ]
  },
  {
   "cell_type": "code",
   "execution_count": 14,
   "id": "aacad112",
   "metadata": {},
   "outputs": [
    {
     "name": "stdout",
     "output_type": "stream",
     "text": [
      "6\n"
     ]
    }
   ],
   "source": [
    "print(DH(3,2,4,19))#"
   ]
  },
  {
   "cell_type": "code",
   "execution_count": 15,
   "id": "e02eaa4d",
   "metadata": {},
   "outputs": [
    {
     "name": "stdout",
     "output_type": "stream",
     "text": [
      "1\n"
     ]
    }
   ],
   "source": [
    "print(DH(3,11,8,19))#"
   ]
  },
  {
   "cell_type": "code",
   "execution_count": 16,
   "id": "18b74284",
   "metadata": {},
   "outputs": [
    {
     "name": "stdout",
     "output_type": "stream",
     "text": [
      "7\n"
     ]
    }
   ],
   "source": [
    "print(DH(3,7,17,19))#"
   ]
  },
  {
   "cell_type": "code",
   "execution_count": 17,
   "id": "77cb7ce8",
   "metadata": {},
   "outputs": [
    {
     "name": "stdout",
     "output_type": "stream",
     "text": [
      "Cipher text = 45293\n",
      "d = 810367\n",
      "Plain text = 514407\n",
      "True\n"
     ]
    }
   ],
   "source": [
    "#Textbook RSA\n",
    "N = 2038667\n",
    "e = 103\n",
    "m = 892383\n",
    "cipher = modExpo(m,e,N)\n",
    "print(\"Cipher text =\",cipher)\n",
    "p = 1301\n",
    "q = int(N / p)\n",
    "fi = (p-1)*(q-1)\n",
    "d = modInv(e,fi)\n",
    "print(\"d =\",d)\n",
    "c = 317730\n",
    "plain = modExpo(c,d,N)\n",
    "print(\"Plain text =\",plain)\n",
    "#check\n",
    "print(modExpo(plain,e,N) == c)"
   ]
  },
  {
   "cell_type": "code",
   "execution_count": 18,
   "id": "dc31945e",
   "metadata": {},
   "outputs": [
    {
     "name": "stdout",
     "output_type": "stream",
     "text": [
      "Plain = 4894\n",
      "True\n"
     ]
    }
   ],
   "source": [
    "#Tấn công RSA với module nhỏ\n",
    "N = 12191\n",
    "p = 73\n",
    "q = 167 #Due to N\n",
    "fi = (p-1)*(q-1)\n",
    "e = 37\n",
    "d = modInv(e,fi)\n",
    "c = 587\n",
    "plain = modExpo(c,d,N)\n",
    "print(\"Plain =\",plain)\n",
    "#check\n",
    "print(modExpo(plain,e,N) == c)"
   ]
  },
  {
   "cell_type": "code",
   "execution_count": 19,
   "id": "86d02c9f",
   "metadata": {},
   "outputs": [
    {
     "name": "stdout",
     "output_type": "stream",
     "text": [
      "2215\n"
     ]
    }
   ],
   "source": [
    "print(modExpo(770,279997,11413))"
   ]
  },
  {
   "cell_type": "code",
   "execution_count": 20,
   "id": "13fb9126",
   "metadata": {},
   "outputs": [
    {
     "name": "stdout",
     "output_type": "stream",
     "text": [
      "5013\n"
     ]
    }
   ],
   "source": [
    "print(modExpo(770,279998,11413))"
   ]
  },
  {
   "cell_type": "code",
   "execution_count": 21,
   "id": "247e99c2",
   "metadata": {},
   "outputs": [
    {
     "name": "stdout",
     "output_type": "stream",
     "text": [
      "2416\n",
      "2416\n",
      "5013\n"
     ]
    }
   ],
   "source": [
    "print(modExpo(770,279999,11413))\n",
    "print(modInv(770,11413))\n",
    "print(2416**2 %11413)"
   ]
  },
  {
   "cell_type": "code",
   "execution_count": 22,
   "id": "e569d472",
   "metadata": {},
   "outputs": [
    {
     "name": "stdout",
     "output_type": "stream",
     "text": [
      "([3, 5, 6, 7, 10, 11, 12, 14], 8)\n"
     ]
    }
   ],
   "source": [
    "print(Gen_element(17))"
   ]
  },
  {
   "cell_type": "code",
   "execution_count": 23,
   "id": "8b44b7be",
   "metadata": {},
   "outputs": [
    {
     "name": "stdout",
     "output_type": "stream",
     "text": [
      "False\n",
      "False\n",
      "False\n",
      "False\n"
     ]
    }
   ],
   "source": [
    "n = 9797\n",
    "e = 7\n",
    "def checkvalid(m,s):\n",
    "    if (modExpo(s,e,n) == m): return True\n",
    "    else: return False\n",
    "print(checkvalid(3934,1871))\n",
    "print(checkvalid(6906,1869))\n",
    "print(checkvalid(9007,1870))\n",
    "print(checkvalid(8287,1872))"
   ]
  },
  {
   "cell_type": "code",
   "execution_count": 24,
   "id": "a8c7286e",
   "metadata": {},
   "outputs": [
    {
     "name": "stdout",
     "output_type": "stream",
     "text": [
      "False\n",
      "False\n",
      "False\n",
      "False\n"
     ]
    }
   ],
   "source": [
    "print(checkvalid(8966,1672))\n",
    "print(checkvalid(6022,1898))\n",
    "print(checkvalid(8481,1866))\n",
    "print(checkvalid(6549,1967))"
   ]
  },
  {
   "cell_type": "code",
   "execution_count": 25,
   "id": "70cfc7e2",
   "metadata": {},
   "outputs": [
    {
     "name": "stdout",
     "output_type": "stream",
     "text": [
      "False\n",
      "False\n",
      "False\n",
      "False\n"
     ]
    }
   ],
   "source": [
    "print(checkvalid(6549,1867))\n",
    "print(checkvalid(6022,1868))\n",
    "print(checkvalid(8987,1872))\n",
    "print(checkvalid(6006,1869))"
   ]
  },
  {
   "cell_type": "code",
   "execution_count": 26,
   "id": "fc465d75",
   "metadata": {},
   "outputs": [
    {
     "name": "stdout",
     "output_type": "stream",
     "text": [
      "False\n",
      "False\n",
      "False\n",
      "False\n"
     ]
    }
   ],
   "source": [
    "print(checkvalid(2015,1865))\n",
    "print(checkvalid(1829,1629))\n",
    "print(checkvalid(4706,1673))\n",
    "print(checkvalid(2630,8502))"
   ]
  },
  {
   "cell_type": "code",
   "execution_count": 27,
   "id": "0f9c9ddf",
   "metadata": {},
   "outputs": [
    {
     "name": "stdout",
     "output_type": "stream",
     "text": [
      "False\n",
      "False\n",
      "False\n",
      "False\n"
     ]
    }
   ],
   "source": [
    "\n",
    "print(checkvalid(1894,1629))\n",
    "print(checkvalid(4706,1683))\n",
    "print(checkvalid(2600,8502))\n",
    "print(checkvalid(2015,1695))"
   ]
  },
  {
   "cell_type": "code",
   "execution_count": 28,
   "id": "45b85dcf",
   "metadata": {},
   "outputs": [
    {
     "name": "stdout",
     "output_type": "stream",
     "text": [
      "False\n",
      "False\n",
      "False\n",
      "False\n"
     ]
    }
   ],
   "source": [
    "print(checkvalid(5078,1973))\n",
    "print(checkvalid(3134,1871))\n",
    "print(checkvalid(3310,1274))\n",
    "print(checkvalid(9207,1870))"
   ]
  },
  {
   "cell_type": "code",
   "execution_count": 29,
   "id": "7a9a1bf7",
   "metadata": {},
   "outputs": [
    {
     "name": "stdout",
     "output_type": "stream",
     "text": [
      "False\n",
      "False\n",
      "False\n",
      "False\n"
     ]
    }
   ],
   "source": [
    "print(checkvalid(3964,1871))\n",
    "print(checkvalid(5078,1873))\n",
    "print(checkvalid(9067,1870))\n",
    "print(checkvalid(3310,1874))"
   ]
  },
  {
   "cell_type": "code",
   "execution_count": 30,
   "id": "f066e556",
   "metadata": {},
   "outputs": [
    {
     "name": "stdout",
     "output_type": "stream",
     "text": [
      "(40,20)\n",
      "True\n"
     ]
    }
   ],
   "source": [
    "#DIGITAL SIGNATURES\n",
    "def S(p,g,d,m,ke):\n",
    "    r = modExpo(g,ke,p)\n",
    "    s = ((m-(d*r)%(p-1)) * modInv(ke,p-1))%(p-1)\n",
    "    print(\"(\"+str(r)+\",\"+str(s)+\")\")\n",
    "def V(p,g,gd,m,r,s):\n",
    "    t = (modExpo(gd,r,p) * modExpo(r,s,p))%p\n",
    "    print(t == modExpo(g,m,p))\n",
    "S(97,23,67,20,35)\n",
    "V(97,23,15,20,40,20)"
   ]
  },
  {
   "cell_type": "code",
   "execution_count": 31,
   "id": "f211293d",
   "metadata": {},
   "outputs": [
    {
     "name": "stdout",
     "output_type": "stream",
     "text": [
      "(40,1)\n",
      "True\n"
     ]
    }
   ],
   "source": [
    "S(97,23,67,27,35)\n",
    "V(97,23,15,27,40,1)"
   ]
  },
  {
   "cell_type": "code",
   "execution_count": 32,
   "id": "4731dfe1",
   "metadata": {
    "scrolled": true
   },
   "outputs": [
    {
     "name": "stdout",
     "output_type": "stream",
     "text": [
      "(40,94)\n",
      "True\n"
     ]
    }
   ],
   "source": [
    "S(97,23,67,18,35)\n",
    "V(97,23,15,18,40,94)"
   ]
  },
  {
   "cell_type": "code",
   "execution_count": 33,
   "id": "fb0e80d4",
   "metadata": {
    "scrolled": false
   },
   "outputs": [
    {
     "name": "stdout",
     "output_type": "stream",
     "text": [
      "(40,9)\n"
     ]
    }
   ],
   "source": [
    "S(97,23,67,19,35)"
   ]
  },
  {
   "cell_type": "code",
   "execution_count": 34,
   "id": "40f95f18",
   "metadata": {
    "scrolled": false
   },
   "outputs": [
    {
     "name": "stdout",
     "output_type": "stream",
     "text": [
      "(40,31)\n"
     ]
    }
   ],
   "source": [
    "S(97,23,67,21,35)"
   ]
  },
  {
   "cell_type": "code",
   "execution_count": 35,
   "id": "eb812483",
   "metadata": {},
   "outputs": [
    {
     "name": "stdout",
     "output_type": "stream",
     "text": [
      "2416\n"
     ]
    }
   ],
   "source": [
    "print(modInv(770,11413))"
   ]
  },
  {
   "cell_type": "code",
   "execution_count": 36,
   "id": "e9ac7ca6",
   "metadata": {},
   "outputs": [
    {
     "name": "stdout",
     "output_type": "stream",
     "text": [
      "16\n"
     ]
    }
   ],
   "source": [
    "print(modExpo(2,64,143))"
   ]
  },
  {
   "cell_type": "code",
   "execution_count": 37,
   "id": "aac25623",
   "metadata": {},
   "outputs": [
    {
     "name": "stdout",
     "output_type": "stream",
     "text": [
      "5\n"
     ]
    }
   ],
   "source": [
    "print(DLog(2,6,13))"
   ]
  },
  {
   "cell_type": "code",
   "execution_count": 38,
   "id": "7f6ec434",
   "metadata": {},
   "outputs": [
    {
     "name": "stdout",
     "output_type": "stream",
     "text": [
      "9\n"
     ]
    }
   ],
   "source": [
    "print(DLog(2,5,13))"
   ]
  },
  {
   "cell_type": "code",
   "execution_count": 39,
   "id": "3bf555ea",
   "metadata": {},
   "outputs": [
    {
     "name": "stdout",
     "output_type": "stream",
     "text": [
      "11\n"
     ]
    }
   ],
   "source": [
    "print(DLog(2,7,13))"
   ]
  },
  {
   "cell_type": "code",
   "execution_count": 40,
   "id": "48b9820c",
   "metadata": {},
   "outputs": [
    {
     "name": "stdout",
     "output_type": "stream",
     "text": [
      "779\n"
     ]
    }
   ],
   "source": [
    "print(modExpo(779,179201,11413))"
   ]
  },
  {
   "cell_type": "code",
   "execution_count": 41,
   "id": "2e11c570",
   "metadata": {},
   "outputs": [
    {
     "name": "stdout",
     "output_type": "stream",
     "text": [
      "([3, 5, 6, 7, 10, 11, 12, 14], 8)\n"
     ]
    }
   ],
   "source": [
    "print(Gen_element(17))"
   ]
  },
  {
   "cell_type": "code",
   "execution_count": 42,
   "id": "dabe786a",
   "metadata": {},
   "outputs": [
    {
     "name": "stdout",
     "output_type": "stream",
     "text": [
      "123\n",
      "63\n",
      "16\n"
     ]
    }
   ],
   "source": [
    "p = 13\n",
    "q = 11\n",
    "e = 7\n",
    "d = modInv(e,(p-1)*(q-1))\n",
    "y = 7\n",
    "print(modExpo(y,d,p*q))\n",
    "y = 2\n",
    "print(modExpo(y,d,p*q))\n",
    "y = 3\n",
    "print(modExpo(y,d,p*q))"
   ]
  },
  {
   "cell_type": "code",
   "execution_count": 58,
   "id": "7c6f1a2b",
   "metadata": {},
   "outputs": [],
   "source": [
    "n = 9797\n",
    "e = 7\n",
    "def checkvalid(m,s):\n",
    "    if (modExpo(s,e,n) == m): return True\n",
    "    else: return False"
   ]
  },
  {
   "cell_type": "code",
   "execution_count": 44,
   "id": "ce15d332",
   "metadata": {},
   "outputs": [
    {
     "name": "stdout",
     "output_type": "stream",
     "text": [
      "False\n",
      "False\n",
      "False\n",
      "True\n"
     ]
    }
   ],
   "source": [
    "print(checkvalid(1894,1629))\n",
    "print(checkvalid(4706,1683))\n",
    "print(checkvalid(2015,7102))\n",
    "print(checkvalid(2600,7912))"
   ]
  },
  {
   "cell_type": "code",
   "execution_count": 45,
   "id": "8799c3ad",
   "metadata": {},
   "outputs": [
    {
     "name": "stdout",
     "output_type": "stream",
     "text": [
      "False\n",
      "False\n",
      "True\n",
      "False\n"
     ]
    }
   ],
   "source": [
    "print(checkvalid(2600,8502))\n",
    "print(checkvalid(4706,1683))\n",
    "print(checkvalid(2015,7103))\n",
    "print(checkvalid(1894,1629))"
   ]
  },
  {
   "cell_type": "code",
   "execution_count": 46,
   "id": "1ff2ef09",
   "metadata": {},
   "outputs": [
    {
     "name": "stdout",
     "output_type": "stream",
     "text": [
      "(87,20)\n"
     ]
    }
   ],
   "source": [
    "S(97,23,67,17,31)"
   ]
  },
  {
   "cell_type": "code",
   "execution_count": 47,
   "id": "c467bbc5",
   "metadata": {},
   "outputs": [
    {
     "name": "stdout",
     "output_type": "stream",
     "text": [
      "(40,20)\n"
     ]
    }
   ],
   "source": [
    "S(97,23,67,20,35)"
   ]
  },
  {
   "cell_type": "code",
   "execution_count": 48,
   "id": "e36f5b26",
   "metadata": {},
   "outputs": [
    {
     "name": "stdout",
     "output_type": "stream",
     "text": [
      "(40,94)\n"
     ]
    }
   ],
   "source": [
    "S(97,23,67,18,35)"
   ]
  },
  {
   "cell_type": "code",
   "execution_count": 49,
   "id": "e47eb57c",
   "metadata": {},
   "outputs": [
    {
     "name": "stdout",
     "output_type": "stream",
     "text": [
      "11\n"
     ]
    }
   ],
   "source": [
    "print(DH(3,7,15,19))"
   ]
  },
  {
   "cell_type": "code",
   "execution_count": 50,
   "id": "729466dd",
   "metadata": {},
   "outputs": [
    {
     "name": "stdout",
     "output_type": "stream",
     "text": [
      "8\n"
     ]
    }
   ],
   "source": [
    "print(DH(3,12,15,19))"
   ]
  },
  {
   "cell_type": "code",
   "execution_count": 51,
   "id": "c9f06aa6",
   "metadata": {},
   "outputs": [
    {
     "name": "stdout",
     "output_type": "stream",
     "text": [
      "1\n"
     ]
    }
   ],
   "source": [
    "print(DH(3,8,11,19))"
   ]
  },
  {
   "cell_type": "code",
   "execution_count": 52,
   "id": "c215d1f2",
   "metadata": {},
   "outputs": [
    {
     "name": "stdout",
     "output_type": "stream",
     "text": [
      "721\n"
     ]
    }
   ],
   "source": [
    "p = 31\n",
    "q=37\n",
    "e = 17\n",
    "d = modInv(e,(p-1)*(q-1))\n",
    "y = 2\n",
    "print(modExpo(y,d,p*q))"
   ]
  },
  {
   "cell_type": "code",
   "execution_count": 53,
   "id": "398e097d",
   "metadata": {},
   "outputs": [
    {
     "name": "stdout",
     "output_type": "stream",
     "text": [
      "779\n"
     ]
    }
   ],
   "source": [
    "print(modExpo(779,168001,11413))"
   ]
  },
  {
   "cell_type": "code",
   "execution_count": 60,
   "id": "1822ae9e",
   "metadata": {},
   "outputs": [
    {
     "name": "stdout",
     "output_type": "stream",
     "text": [
      "(40,94)\n"
     ]
    }
   ],
   "source": [
    "S(97,23,67,18,35)"
   ]
  },
  {
   "cell_type": "code",
   "execution_count": null,
   "id": "24d4fb9c",
   "metadata": {},
   "outputs": [],
   "source": [
    "print(DH(3,11,14))"
   ]
  }
 ],
 "metadata": {
  "kernelspec": {
   "display_name": "Python 3",
   "language": "python",
   "name": "python3"
  },
  "language_info": {
   "codemirror_mode": {
    "name": "ipython",
    "version": 3
   },
   "file_extension": ".py",
   "mimetype": "text/x-python",
   "name": "python",
   "nbconvert_exporter": "python",
   "pygments_lexer": "ipython3",
   "version": "3.6.9"
  }
 },
 "nbformat": 4,
 "nbformat_minor": 5
}
