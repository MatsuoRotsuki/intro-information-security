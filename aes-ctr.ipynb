{
 "cells": [
  {
   "cell_type": "code",
   "execution_count": 1,
   "id": "7aa2dc0f",
   "metadata": {},
   "outputs": [],
   "source": [
    "import binascii\n",
    "import os\n",
    "import hashlib\n",
    "\n",
    "from Crypto.Cipher import AES\n",
    "from Crypto.Util import Counter\n",
    "\n",
    "\n",
    "def convert_string2int(string):\n",
    "    \"\"\"\n",
    "    Convert string to int format\n",
    "    :param string: string of utf-8 format\n",
    "    :return: hexlified string of int format\n",
    "    \"\"\"\n",
    "\n",
    "    return int(binascii.hexlify(string), 16)\n",
    "\n",
    "\n",
    "def encrypt_message(key, plain_text):\n",
    "    \"\"\"\n",
    "    Encrypt message using AES CTR Mode\n",
    "    :param key: key for encrypt\n",
    "    :param plain_text: message to encrypt\n",
    "    :return: initial vector, encrypted message\n",
    "    \"\"\"\n",
    "\n",
    "    iv = os.urandom(16)  # Set Random value to initial vector\n",
    "    ctr = Counter.new(128, initial_value=convert_string2int(iv))  # Set initial vector\n",
    "    key = hashlib.sha3_224(key.encode('utf-8')).hexdigest()[0:32]  # Make length of key to 32 using SHA-3\n",
    "    aes = AES.new(key, AES.MODE_CTR, counter=ctr)  # Set CTR Mode to AES\n",
    "    return iv, aes.encrypt(plain_text)\n",
    "\n",
    "\n",
    "def decrypt_message(key, iv, cipher_text):\n",
    "    \"\"\"\n",
    "    Decrypt message using AES CTR Mode\n",
    "    :param key: key for decrypt\n",
    "    :param iv: initial vector for AES encrypt\n",
    "    :param cipher_text: encrypted message\n",
    "    :return: utf-8 format string of decrypted message\n",
    "    \"\"\"\n",
    "\n",
    "    ctr = Counter.new(128, initial_value=convert_string2int(iv))  # Set initial vector\n",
    "    key = hashlib.sha3_224(key.encode('utf-8')).hexdigest()[0:32]  # Make length of key to 32 using SHA-3\n",
    "    aes = AES.new(key, AES.MODE_CTR, counter=ctr)  # Also, Set CTR Mode to AES\n",
    "    return aes.decrypt(cipher_text).decode(\"utf-8\")\n"
   ]
  },
  {
   "cell_type": "code",
   "execution_count": 31,
   "id": "12363fda",
   "metadata": {},
   "outputs": [
    {
     "name": "stdout",
     "output_type": "stream",
     "text": [
      "Key = 0fd2c181ed5d1bffea9cb03aa520a34e\n",
      "IV = 154d6b02c534e5315cba0f905b7b859d\n",
      "Cipher text = 866d5bb0031a11b60545ea3a8b912fce6f5d698ff466d004424416a76403ab9a3873cb37ce6f8e3ff8\n"
     ]
    }
   ],
   "source": [
    "#key = \"140b41b22a29beb4061bda66b6747e14\" #128bit\n",
    "key = binascii.hexlify(os.urandom(16)).decode('UTF-8')\n",
    "print(\"Key =\",key)\n",
    "plaintext = \"I will wait for you on the brigde at dawn\"\n",
    "iv, ciphertext = encrypt_message(key, plaintext)\n",
    "string_iv= binascii.hexlify(iv).decode('UTF-8')\n",
    "string_cipher_text = binascii.hexlify(ciphertext).decode('UTF-8')\n",
    "print(\"IV =\",string_iv)\n",
    "print(\"Cipher text =\",string_cipher_text)"
   ]
  },
  {
   "cell_type": "code",
   "execution_count": 30,
   "id": "d002555e",
   "metadata": {},
   "outputs": [
    {
     "name": "stdout",
     "output_type": "stream",
     "text": [
      "I will wait for you on the brigde at dawn\n"
     ]
    }
   ],
   "source": [
    "decrypttext = decrypt_message(key, iv, ciphertext)\n",
    "print(decrypttext)"
   ]
  },
  {
   "cell_type": "code",
   "execution_count": null,
   "id": "bdd18edb",
   "metadata": {},
   "outputs": [],
   "source": []
  }
 ],
 "metadata": {
  "kernelspec": {
   "display_name": "Python 3",
   "language": "python",
   "name": "python3"
  },
  "language_info": {
   "codemirror_mode": {
    "name": "ipython",
    "version": 3
   },
   "file_extension": ".py",
   "mimetype": "text/x-python",
   "name": "python",
   "nbconvert_exporter": "python",
   "pygments_lexer": "ipython3",
   "version": "3.6.9"
  }
 },
 "nbformat": 4,
 "nbformat_minor": 5
}
