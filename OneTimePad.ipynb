{
 "cells": [
  {
   "cell_type": "code",
   "execution_count": 9,
   "id": "2e19f8d7",
   "metadata": {},
   "outputs": [],
   "source": [
    "import binascii\n",
    "import numpy as np"
   ]
  },
  {
   "cell_type": "code",
   "execution_count": 10,
   "id": "fbd4ddbb",
   "metadata": {},
   "outputs": [],
   "source": [
    "def encrypt(cipher,plain,plain_want):\n",
    "    int_plain = int(binascii.hexlify(bytes(plain, 'ascii')),16)\n",
    "    int_plain_want = int(binascii.hexlify(bytes(plain_want, 'ascii')),16)\n",
    "    int_cipher = int(binascii.a2b_qp(cipher),16)\n",
    "    #print(int_plain)\n",
    "    #print(int_plain_want)\n",
    "    #print(int_cipher)\n",
    "    int_key = int_plain ^ int_cipher\n",
    "    print(\"Cypher text desired:\",'{:x}'.format(int_key ^ int_plain_want))\n",
    "    print(\"Key:\",'{:x}'.format(int_key))"
   ]
  },
  {
   "cell_type": "code",
   "execution_count": 11,
   "id": "5dd22702",
   "metadata": {},
   "outputs": [],
   "source": [
    "#print(binascii.a2b_qp(plaintext))\n",
    "#cipher = '6c73d5240a948c86981bc294'\n",
    "#print(binascii.a2b_qp(cipher))"
   ]
  },
  {
   "cell_type": "code",
   "execution_count": 12,
   "id": "a143d272",
   "metadata": {},
   "outputs": [
    {
     "name": "stdout",
     "output_type": "stream",
     "text": [
      "Cypher text desired: 6c73d5240a948c86981ac394\n",
      "Key: b06bc046ee1efa6a92bf2f0\n"
     ]
    }
   ],
   "source": [
    "encrypt(\"6c73d5240a948c86981bc294\",\"gui duc 100d\",\"gui duc 111d\")"
   ]
  },
  {
   "cell_type": "code",
   "execution_count": 13,
   "id": "d8fd1632",
   "metadata": {},
   "outputs": [
    {
     "name": "stdout",
     "output_type": "stream",
     "text": [
      "Cypher text desired: 6c73d5240a948c86981ac394\n",
      "Key: b06bc046ee1efa6a92bf2f0\n"
     ]
    }
   ],
   "source": [
    "encrypt(\"6c73d5240a948c86981bc294\",\"gui duc 100d\",\"gui duc 111d\")"
   ]
  },
  {
   "cell_type": "code",
   "execution_count": 14,
   "id": "4f3e973a",
   "metadata": {},
   "outputs": [
    {
     "name": "stdout",
     "output_type": "stream",
     "text": [
      "Cypher text desired: 6c73d5240a948c86991ac294\n",
      "Key: b06bc046ee1efa6a92bf2f0\n"
     ]
    }
   ],
   "source": [
    "encrypt(\"6c73d5240a948c86981bc294\",\"gui duc 100d\",\"gui duc 010d\")"
   ]
  },
  {
   "cell_type": "code",
   "execution_count": 15,
   "id": "ff4f607a",
   "metadata": {},
   "outputs": [
    {
     "name": "stdout",
     "output_type": "stream",
     "text": [
      "Cypher text desired: 6c73d5240a948c86991ac294\n",
      "Key: b06bc046ee1efa6a92bf2f0\n"
     ]
    }
   ],
   "source": [
    "encrypt(\"6c73d5240a948c86981bc294\",\"gui duc 100d\",\"gui duc 010d\")"
   ]
  },
  {
   "cell_type": "code",
   "execution_count": 17,
   "id": "6df44e8b",
   "metadata": {},
   "outputs": [
    {
     "name": "stdout",
     "output_type": "stream",
     "text": [
      "Cypher text desired: 6c73d5240a948c869a19c194\n",
      "Key: b06bc046ee1efa6a92bf2f0\n"
     ]
    }
   ],
   "source": [
    "encrypt(\"6c73d5240a948c86981bc294\",\"gui duc 100d\",\"gui duc 323d\")"
   ]
  },
  {
   "cell_type": "code",
   "execution_count": 21,
   "id": "8bf90585",
   "metadata": {},
   "outputs": [
    {
     "name": "stdout",
     "output_type": "stream",
     "text": [
      "Cypher text desired: 6c73d5240a948c869a18c194\n",
      "Key: b06bc046ee1efa6a92bf2f0\n"
     ]
    }
   ],
   "source": [
    "encrypt(\"6c73d5240a948c86981bc294\",\"gui duc 100d\",\"gui duc 333d\")"
   ]
  },
  {
   "cell_type": "code",
   "execution_count": null,
   "id": "2cb954ff",
   "metadata": {},
   "outputs": [],
   "source": [
    "encrypt(\"6c73d5240a948c86981bc294\",\"gui duc 100d\",\"gui duc 333d\")"
   ]
  }
 ],
 "metadata": {
  "kernelspec": {
   "display_name": "Python 3",
   "language": "python",
   "name": "python3"
  },
  "language_info": {
   "codemirror_mode": {
    "name": "ipython",
    "version": 3
   },
   "file_extension": ".py",
   "mimetype": "text/x-python",
   "name": "python",
   "nbconvert_exporter": "python",
   "pygments_lexer": "ipython3",
   "version": "3.6.9"
  }
 },
 "nbformat": 4,
 "nbformat_minor": 5
}
